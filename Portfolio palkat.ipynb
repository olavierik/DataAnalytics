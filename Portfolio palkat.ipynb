{
 "cells": [
  {
   "cell_type": "code",
   "execution_count": 1,
   "metadata": {},
   "outputs": [],
   "source": [
    "import pandas as pd\n",
    "import matplotlib.pyplot as plt\n",
    "import seaborn as sns\n",
    "%matplotlib inline\n",
    "\n",
    "df = pd.read_excel('http://taanila.fi/data1.xlsx')"
   ]
  },
  {
   "cell_type": "code",
   "execution_count": 2,
   "metadata": {},
   "outputs": [
    {
     "data": {
      "text/plain": [
       "(82, 16)"
      ]
     },
     "execution_count": 2,
     "metadata": {},
     "output_type": "execute_result"
    }
   ],
   "source": [
    "df.shape"
   ]
  },
  {
   "cell_type": "code",
   "execution_count": 3,
   "metadata": {},
   "outputs": [
    {
     "data": {
      "text/plain": [
       "Index(['nro', 'sukup', 'ikä', 'perhe', 'koulutus', 'palveluv', 'palkka',\n",
       "       'johto', 'työtov', 'työymp', 'palkkat', 'työteht', 'työterv', 'lomaosa',\n",
       "       'kuntosa', 'hieroja'],\n",
       "      dtype='object')"
      ]
     },
     "execution_count": 3,
     "metadata": {},
     "output_type": "execute_result"
    }
   ],
   "source": [
    "df.columns"
   ]
  },
  {
   "cell_type": "code",
   "execution_count": 4,
   "metadata": {},
   "outputs": [],
   "source": [
    "df.columns = ['nro', 'sukupuoli', 'ikä', 'perhe', 'koulutus', 'palveluvuodet', 'palkka',\n",
    "       'johto', 'työtov', 'työymp', 'palkkat', 'työteht', 'työterv', 'lomaosa',\n",
    "       'kuntosa', 'hieroja']"
   ]
  },
  {
   "cell_type": "code",
   "execution_count": 5,
   "metadata": {},
   "outputs": [],
   "source": [
    "sukupuoli = ['Mies', 'Nainen']\n",
    "koulutus = ['Perusaste', 'Toinen aste', 'Korkeakoulu', 'Ylempi korkeakoulu']"
   ]
  },
  {
   "cell_type": "code",
   "execution_count": 6,
   "metadata": {},
   "outputs": [
    {
     "data": {
      "text/html": [
       "<div>\n",
       "<style scoped>\n",
       "    .dataframe tbody tr th:only-of-type {\n",
       "        vertical-align: middle;\n",
       "    }\n",
       "\n",
       "    .dataframe tbody tr th {\n",
       "        vertical-align: top;\n",
       "    }\n",
       "\n",
       "    .dataframe thead th {\n",
       "        text-align: right;\n",
       "    }\n",
       "</style>\n",
       "<table border=\"1\" class=\"dataframe\">\n",
       "  <thead>\n",
       "    <tr style=\"text-align: right;\">\n",
       "      <th></th>\n",
       "      <th>count</th>\n",
       "      <th>mean</th>\n",
       "      <th>std</th>\n",
       "      <th>min</th>\n",
       "      <th>25%</th>\n",
       "      <th>50%</th>\n",
       "      <th>75%</th>\n",
       "      <th>max</th>\n",
       "    </tr>\n",
       "  </thead>\n",
       "  <tbody>\n",
       "    <tr>\n",
       "      <th>Mies</th>\n",
       "      <td>63.0</td>\n",
       "      <td>2663.746032</td>\n",
       "      <td>930.061860</td>\n",
       "      <td>1521.0</td>\n",
       "      <td>2086.0</td>\n",
       "      <td>2417.0</td>\n",
       "      <td>2925.0</td>\n",
       "      <td>6278.0</td>\n",
       "    </tr>\n",
       "    <tr>\n",
       "      <th>Nainen</th>\n",
       "      <td>19.0</td>\n",
       "      <td>2232.736842</td>\n",
       "      <td>340.780451</td>\n",
       "      <td>1715.0</td>\n",
       "      <td>1969.0</td>\n",
       "      <td>2144.0</td>\n",
       "      <td>2574.0</td>\n",
       "      <td>2729.0</td>\n",
       "    </tr>\n",
       "  </tbody>\n",
       "</table>\n",
       "</div>"
      ],
      "text/plain": [
       "        count         mean         std     min     25%     50%     75%     max\n",
       "Mies     63.0  2663.746032  930.061860  1521.0  2086.0  2417.0  2925.0  6278.0\n",
       "Nainen   19.0  2232.736842  340.780451  1715.0  1969.0  2144.0  2574.0  2729.0"
      ]
     },
     "execution_count": 6,
     "metadata": {},
     "output_type": "execute_result"
    }
   ],
   "source": [
    "df1 = df.groupby('sukupuoli')['palkka'].describe()\n",
    "df1.index = sukupuoli\n",
    "df1"
   ]
  },
  {
   "cell_type": "code",
   "execution_count": 7,
   "metadata": {},
   "outputs": [
    {
     "data": {
      "text/html": [
       "<div>\n",
       "<style scoped>\n",
       "    .dataframe tbody tr th:only-of-type {\n",
       "        vertical-align: middle;\n",
       "    }\n",
       "\n",
       "    .dataframe tbody tr th {\n",
       "        vertical-align: top;\n",
       "    }\n",
       "\n",
       "    .dataframe thead th {\n",
       "        text-align: right;\n",
       "    }\n",
       "</style>\n",
       "<table border=\"1\" class=\"dataframe\">\n",
       "  <thead>\n",
       "    <tr style=\"text-align: right;\">\n",
       "      <th></th>\n",
       "      <th>sukupuoli</th>\n",
       "      <th>ikä</th>\n",
       "      <th>perhe</th>\n",
       "      <th>koulutus</th>\n",
       "      <th>palveluvuodet</th>\n",
       "      <th>palkka</th>\n",
       "      <th>johto</th>\n",
       "      <th>työtov</th>\n",
       "      <th>työymp</th>\n",
       "      <th>palkkat</th>\n",
       "      <th>työteht</th>\n",
       "    </tr>\n",
       "  </thead>\n",
       "  <tbody>\n",
       "    <tr>\n",
       "      <th>0</th>\n",
       "      <td>1</td>\n",
       "      <td>38</td>\n",
       "      <td>1</td>\n",
       "      <td>1.0</td>\n",
       "      <td>22.0</td>\n",
       "      <td>3587</td>\n",
       "      <td>3</td>\n",
       "      <td>3.0</td>\n",
       "      <td>3</td>\n",
       "      <td>3</td>\n",
       "      <td>3</td>\n",
       "    </tr>\n",
       "    <tr>\n",
       "      <th>1</th>\n",
       "      <td>1</td>\n",
       "      <td>29</td>\n",
       "      <td>2</td>\n",
       "      <td>2.0</td>\n",
       "      <td>10.0</td>\n",
       "      <td>2963</td>\n",
       "      <td>1</td>\n",
       "      <td>5.0</td>\n",
       "      <td>2</td>\n",
       "      <td>1</td>\n",
       "      <td>3</td>\n",
       "    </tr>\n",
       "    <tr>\n",
       "      <th>2</th>\n",
       "      <td>1</td>\n",
       "      <td>30</td>\n",
       "      <td>1</td>\n",
       "      <td>1.0</td>\n",
       "      <td>7.0</td>\n",
       "      <td>1989</td>\n",
       "      <td>3</td>\n",
       "      <td>4.0</td>\n",
       "      <td>1</td>\n",
       "      <td>1</td>\n",
       "      <td>3</td>\n",
       "    </tr>\n",
       "    <tr>\n",
       "      <th>3</th>\n",
       "      <td>1</td>\n",
       "      <td>36</td>\n",
       "      <td>2</td>\n",
       "      <td>1.0</td>\n",
       "      <td>14.0</td>\n",
       "      <td>2144</td>\n",
       "      <td>3</td>\n",
       "      <td>3.0</td>\n",
       "      <td>3</td>\n",
       "      <td>3</td>\n",
       "      <td>3</td>\n",
       "    </tr>\n",
       "    <tr>\n",
       "      <th>4</th>\n",
       "      <td>1</td>\n",
       "      <td>24</td>\n",
       "      <td>1</td>\n",
       "      <td>2.0</td>\n",
       "      <td>4.0</td>\n",
       "      <td>2183</td>\n",
       "      <td>2</td>\n",
       "      <td>3.0</td>\n",
       "      <td>2</td>\n",
       "      <td>1</td>\n",
       "      <td>2</td>\n",
       "    </tr>\n",
       "  </tbody>\n",
       "</table>\n",
       "</div>"
      ],
      "text/plain": [
       "   sukupuoli  ikä  perhe  koulutus  palveluvuodet  palkka  johto  työtov  \\\n",
       "0          1   38      1       1.0           22.0    3587      3     3.0   \n",
       "1          1   29      2       2.0           10.0    2963      1     5.0   \n",
       "2          1   30      1       1.0            7.0    1989      3     4.0   \n",
       "3          1   36      2       1.0           14.0    2144      3     3.0   \n",
       "4          1   24      1       2.0            4.0    2183      2     3.0   \n",
       "\n",
       "   työymp  palkkat  työteht  \n",
       "0       3        3        3  \n",
       "1       2        1        3  \n",
       "2       1        1        3  \n",
       "3       3        3        3  \n",
       "4       2        1        2  "
      ]
     },
     "execution_count": 7,
     "metadata": {},
     "output_type": "execute_result"
    }
   ],
   "source": [
    "df2 = df.drop(['nro', 'työterv', 'lomaosa',\n",
    "       'kuntosa', 'hieroja'], axis=1)\n",
    "df2.head()"
   ]
  },
  {
   "cell_type": "code",
   "execution_count": 8,
   "metadata": {},
   "outputs": [
    {
     "data": {
      "text/html": [
       "<div>\n",
       "<style scoped>\n",
       "    .dataframe tbody tr th:only-of-type {\n",
       "        vertical-align: middle;\n",
       "    }\n",
       "\n",
       "    .dataframe tbody tr th {\n",
       "        vertical-align: top;\n",
       "    }\n",
       "\n",
       "    .dataframe thead th {\n",
       "        text-align: right;\n",
       "    }\n",
       "</style>\n",
       "<table border=\"1\" class=\"dataframe\">\n",
       "  <thead>\n",
       "    <tr style=\"text-align: right;\">\n",
       "      <th></th>\n",
       "      <th>sukupuoli</th>\n",
       "      <th>ikä</th>\n",
       "      <th>perhe</th>\n",
       "      <th>koulutus</th>\n",
       "      <th>palveluvuodet</th>\n",
       "      <th>palkka</th>\n",
       "      <th>johto</th>\n",
       "      <th>työtov</th>\n",
       "      <th>työymp</th>\n",
       "      <th>palkkat</th>\n",
       "      <th>työteht</th>\n",
       "    </tr>\n",
       "  </thead>\n",
       "  <tbody>\n",
       "    <tr>\n",
       "      <th>sukupuoli</th>\n",
       "      <td>1.000000</td>\n",
       "      <td>0.154505</td>\n",
       "      <td>0.249334</td>\n",
       "      <td>0.077620</td>\n",
       "      <td>0.143230</td>\n",
       "      <td>-0.215426</td>\n",
       "      <td>0.325442</td>\n",
       "      <td>-0.147959</td>\n",
       "      <td>0.348216</td>\n",
       "      <td>0.337999</td>\n",
       "      <td>0.174702</td>\n",
       "    </tr>\n",
       "    <tr>\n",
       "      <th>ikä</th>\n",
       "      <td>0.154505</td>\n",
       "      <td>1.000000</td>\n",
       "      <td>0.412914</td>\n",
       "      <td>-0.157863</td>\n",
       "      <td>0.531559</td>\n",
       "      <td>0.296872</td>\n",
       "      <td>0.120856</td>\n",
       "      <td>0.077554</td>\n",
       "      <td>0.101577</td>\n",
       "      <td>0.072114</td>\n",
       "      <td>0.187848</td>\n",
       "    </tr>\n",
       "    <tr>\n",
       "      <th>perhe</th>\n",
       "      <td>0.249334</td>\n",
       "      <td>0.412914</td>\n",
       "      <td>1.000000</td>\n",
       "      <td>0.049670</td>\n",
       "      <td>0.345915</td>\n",
       "      <td>0.239839</td>\n",
       "      <td>0.212600</td>\n",
       "      <td>0.090063</td>\n",
       "      <td>0.280548</td>\n",
       "      <td>0.214119</td>\n",
       "      <td>0.315220</td>\n",
       "    </tr>\n",
       "    <tr>\n",
       "      <th>koulutus</th>\n",
       "      <td>0.077620</td>\n",
       "      <td>-0.157863</td>\n",
       "      <td>0.049670</td>\n",
       "      <td>1.000000</td>\n",
       "      <td>-0.145238</td>\n",
       "      <td>0.422408</td>\n",
       "      <td>0.140477</td>\n",
       "      <td>-0.016793</td>\n",
       "      <td>0.296007</td>\n",
       "      <td>0.254002</td>\n",
       "      <td>0.158809</td>\n",
       "    </tr>\n",
       "    <tr>\n",
       "      <th>palveluvuodet</th>\n",
       "      <td>0.143230</td>\n",
       "      <td>0.531559</td>\n",
       "      <td>0.345915</td>\n",
       "      <td>-0.145238</td>\n",
       "      <td>1.000000</td>\n",
       "      <td>0.243139</td>\n",
       "      <td>0.073422</td>\n",
       "      <td>0.019732</td>\n",
       "      <td>0.126504</td>\n",
       "      <td>0.004420</td>\n",
       "      <td>0.143100</td>\n",
       "    </tr>\n",
       "    <tr>\n",
       "      <th>palkka</th>\n",
       "      <td>-0.215426</td>\n",
       "      <td>0.296872</td>\n",
       "      <td>0.239839</td>\n",
       "      <td>0.422408</td>\n",
       "      <td>0.243139</td>\n",
       "      <td>1.000000</td>\n",
       "      <td>0.174133</td>\n",
       "      <td>0.117468</td>\n",
       "      <td>0.267615</td>\n",
       "      <td>0.314889</td>\n",
       "      <td>0.307886</td>\n",
       "    </tr>\n",
       "    <tr>\n",
       "      <th>johto</th>\n",
       "      <td>0.325442</td>\n",
       "      <td>0.120856</td>\n",
       "      <td>0.212600</td>\n",
       "      <td>0.140477</td>\n",
       "      <td>0.073422</td>\n",
       "      <td>0.174133</td>\n",
       "      <td>1.000000</td>\n",
       "      <td>0.223328</td>\n",
       "      <td>0.584918</td>\n",
       "      <td>0.540228</td>\n",
       "      <td>0.456933</td>\n",
       "    </tr>\n",
       "    <tr>\n",
       "      <th>työtov</th>\n",
       "      <td>-0.147959</td>\n",
       "      <td>0.077554</td>\n",
       "      <td>0.090063</td>\n",
       "      <td>-0.016793</td>\n",
       "      <td>0.019732</td>\n",
       "      <td>0.117468</td>\n",
       "      <td>0.223328</td>\n",
       "      <td>1.000000</td>\n",
       "      <td>0.285940</td>\n",
       "      <td>0.086845</td>\n",
       "      <td>0.308939</td>\n",
       "    </tr>\n",
       "    <tr>\n",
       "      <th>työymp</th>\n",
       "      <td>0.348216</td>\n",
       "      <td>0.101577</td>\n",
       "      <td>0.280548</td>\n",
       "      <td>0.296007</td>\n",
       "      <td>0.126504</td>\n",
       "      <td>0.267615</td>\n",
       "      <td>0.584918</td>\n",
       "      <td>0.285940</td>\n",
       "      <td>1.000000</td>\n",
       "      <td>0.538940</td>\n",
       "      <td>0.576431</td>\n",
       "    </tr>\n",
       "    <tr>\n",
       "      <th>palkkat</th>\n",
       "      <td>0.337999</td>\n",
       "      <td>0.072114</td>\n",
       "      <td>0.214119</td>\n",
       "      <td>0.254002</td>\n",
       "      <td>0.004420</td>\n",
       "      <td>0.314889</td>\n",
       "      <td>0.540228</td>\n",
       "      <td>0.086845</td>\n",
       "      <td>0.538940</td>\n",
       "      <td>1.000000</td>\n",
       "      <td>0.479884</td>\n",
       "    </tr>\n",
       "    <tr>\n",
       "      <th>työteht</th>\n",
       "      <td>0.174702</td>\n",
       "      <td>0.187848</td>\n",
       "      <td>0.315220</td>\n",
       "      <td>0.158809</td>\n",
       "      <td>0.143100</td>\n",
       "      <td>0.307886</td>\n",
       "      <td>0.456933</td>\n",
       "      <td>0.308939</td>\n",
       "      <td>0.576431</td>\n",
       "      <td>0.479884</td>\n",
       "      <td>1.000000</td>\n",
       "    </tr>\n",
       "  </tbody>\n",
       "</table>\n",
       "</div>"
      ],
      "text/plain": [
       "               sukupuoli       ikä     perhe  koulutus  palveluvuodet  \\\n",
       "sukupuoli       1.000000  0.154505  0.249334  0.077620       0.143230   \n",
       "ikä             0.154505  1.000000  0.412914 -0.157863       0.531559   \n",
       "perhe           0.249334  0.412914  1.000000  0.049670       0.345915   \n",
       "koulutus        0.077620 -0.157863  0.049670  1.000000      -0.145238   \n",
       "palveluvuodet   0.143230  0.531559  0.345915 -0.145238       1.000000   \n",
       "palkka         -0.215426  0.296872  0.239839  0.422408       0.243139   \n",
       "johto           0.325442  0.120856  0.212600  0.140477       0.073422   \n",
       "työtov         -0.147959  0.077554  0.090063 -0.016793       0.019732   \n",
       "työymp          0.348216  0.101577  0.280548  0.296007       0.126504   \n",
       "palkkat         0.337999  0.072114  0.214119  0.254002       0.004420   \n",
       "työteht         0.174702  0.187848  0.315220  0.158809       0.143100   \n",
       "\n",
       "                 palkka     johto    työtov    työymp   palkkat   työteht  \n",
       "sukupuoli     -0.215426  0.325442 -0.147959  0.348216  0.337999  0.174702  \n",
       "ikä            0.296872  0.120856  0.077554  0.101577  0.072114  0.187848  \n",
       "perhe          0.239839  0.212600  0.090063  0.280548  0.214119  0.315220  \n",
       "koulutus       0.422408  0.140477 -0.016793  0.296007  0.254002  0.158809  \n",
       "palveluvuodet  0.243139  0.073422  0.019732  0.126504  0.004420  0.143100  \n",
       "palkka         1.000000  0.174133  0.117468  0.267615  0.314889  0.307886  \n",
       "johto          0.174133  1.000000  0.223328  0.584918  0.540228  0.456933  \n",
       "työtov         0.117468  0.223328  1.000000  0.285940  0.086845  0.308939  \n",
       "työymp         0.267615  0.584918  0.285940  1.000000  0.538940  0.576431  \n",
       "palkkat        0.314889  0.540228  0.086845  0.538940  1.000000  0.479884  \n",
       "työteht        0.307886  0.456933  0.308939  0.576431  0.479884  1.000000  "
      ]
     },
     "execution_count": 8,
     "metadata": {},
     "output_type": "execute_result"
    }
   ],
   "source": [
    "df2.corr()"
   ]
  },
  {
   "cell_type": "code",
   "execution_count": 14,
   "metadata": {},
   "outputs": [
    {
     "data": {
      "text/html": [
       "<div>\n",
       "<style scoped>\n",
       "    .dataframe tbody tr th:only-of-type {\n",
       "        vertical-align: middle;\n",
       "    }\n",
       "\n",
       "    .dataframe tbody tr th {\n",
       "        vertical-align: top;\n",
       "    }\n",
       "\n",
       "    .dataframe thead th {\n",
       "        text-align: right;\n",
       "    }\n",
       "</style>\n",
       "<table border=\"1\" class=\"dataframe\">\n",
       "  <thead>\n",
       "    <tr style=\"text-align: right;\">\n",
       "      <th></th>\n",
       "      <th>mean</th>\n",
       "    </tr>\n",
       "  </thead>\n",
       "  <tbody>\n",
       "    <tr>\n",
       "      <th>johto</th>\n",
       "      <td>3.06</td>\n",
       "    </tr>\n",
       "    <tr>\n",
       "      <th>työtov</th>\n",
       "      <td>4.06</td>\n",
       "    </tr>\n",
       "    <tr>\n",
       "      <th>työymp</th>\n",
       "      <td>3.22</td>\n",
       "    </tr>\n",
       "    <tr>\n",
       "      <th>palkkat</th>\n",
       "      <td>2.11</td>\n",
       "    </tr>\n",
       "    <tr>\n",
       "      <th>työteht</th>\n",
       "      <td>3.20</td>\n",
       "    </tr>\n",
       "  </tbody>\n",
       "</table>\n",
       "</div>"
      ],
      "text/plain": [
       "         mean\n",
       "johto    3.06\n",
       "työtov   4.06\n",
       "työymp   3.22\n",
       "palkkat  2.11\n",
       "työteht  3.20"
      ]
     },
     "execution_count": 14,
     "metadata": {},
     "output_type": "execute_result"
    }
   ],
   "source": [
    "df3 = df[['johto', 'työtov', 'työymp', 'palkkat', 'työteht']].mean().to_frame('mean')\n",
    "df3.round(2)"
   ]
  },
  {
   "cell_type": "code",
   "execution_count": 15,
   "metadata": {},
   "outputs": [
    {
     "data": {
      "text/plain": [
       "Text(0.5, 0, 'Tyytyväisyyden keskiarvo')"
      ]
     },
     "execution_count": 15,
     "metadata": {},
     "output_type": "execute_result"
    },
    {
     "data": {
      "image/png": "[encoded data removed]",
      "text/plain": [
       "<Figure size 432x288 with 1 Axes>"
      ]
     },
     "metadata": {
      "needs_background": "light"
     },
     "output_type": "display_data"
    }
   ],
   "source": [
    "ax1 = df3.sort_values('mean').plot.barh(legend=False)\n",
    "ax1.set_xlim(1,5)\n",
    "ax1.set_xlabel('Tyytyväisyyden keskiarvo')"
   ]
  },
  {
   "cell_type": "code",
   "execution_count": 16,
   "metadata": {},
   "outputs": [
    {
     "data": {
      "text/plain": [
       "<matplotlib.axes._subplots.AxesSubplot at 0x263f7ed71d0>"
      ]
     },
     "execution_count": 16,
     "metadata": {},
     "output_type": "execute_result"
    },
    {
     "data": {
      "image/png": "[encoded data removed]",
      "text/plain": [
       "<Figure size 432x288 with 1 Axes>"
      ]
     },
     "metadata": {
      "needs_background": "light"
     },
     "output_type": "display_data"
    }
   ],
   "source": [
    "import seaborn as sns\n",
    "\n",
    "sns.boxplot(df['työymp'])"
   ]
  },
  {
   "cell_type": "code",
   "execution_count": 18,
   "metadata": {},
   "outputs": [
    {
     "data": {
      "text/plain": [
       "<matplotlib.axes._subplots.AxesSubplot at 0x263f7fcc940>"
      ]
     },
     "execution_count": 18,
     "metadata": {},
     "output_type": "execute_result"
    },
    {
     "data": {
      "image/png": "[encoded data removed]",
      "text/plain": [
       "<Figure size 432x288 with 1 Axes>"
      ]
     },
     "metadata": {
      "needs_background": "light"
     },
     "output_type": "display_data"
    }
   ],
   "source": [
    "sns.boxplot(df['johto'])"
   ]
  },
  {
   "cell_type": "code",
   "execution_count": 19,
   "metadata": {},
   "outputs": [
    {
     "data": {
      "text/plain": [
       "<matplotlib.axes._subplots.AxesSubplot at 0x263f800c780>"
      ]
     },
     "execution_count": 19,
     "metadata": {},
     "output_type": "execute_result"
    },
    {
     "data": {
      "image/png": "[encoded data removed]",
      "text/plain": [
       "<Figure size 432x288 with 1 Axes>"
      ]
     },
     "metadata": {
      "needs_background": "light"
     },
     "output_type": "display_data"
    }
   ],
   "source": [
    "sns.boxplot(data=df[['työtov', 'työymp', 'työteht', 'johto', 'palkkat']])"
   ]
  },
  {
   "cell_type": "code",
   "execution_count": 21,
   "metadata": {},
   "outputs": [
    {
     "data": {
      "text/html": [
       "<style  type=\"text/css\" >\n",
       "</style><table id=\"T_af29e23e_2fbf_11ea_9c93_af0e556d7809\" ><thead>    <tr>        <th class=\"blank level0\" ></th>        <th class=\"col_heading level0 col0\" >count</th>        <th class=\"col_heading level0 col1\" >mean</th>        <th class=\"col_heading level0 col2\" >std</th>        <th class=\"col_heading level0 col3\" >min</th>        <th class=\"col_heading level0 col4\" >25%</th>        <th class=\"col_heading level0 col5\" >50%</th>        <th class=\"col_heading level0 col6\" >75%</th>        <th class=\"col_heading level0 col7\" >max</th>    </tr></thead><tbody>\n",
       "                <tr>\n",
       "                        <th id=\"T_af29e23e_2fbf_11ea_9c93_af0e556d7809level0_row0\" class=\"row_heading level0 row0\" >Perusaste</th>\n",
       "                        <td id=\"T_af29e23e_2fbf_11ea_9c93_af0e556d7809row0_col0\" class=\"data row0 col0\" >27</td>\n",
       "                        <td id=\"T_af29e23e_2fbf_11ea_9c93_af0e556d7809row0_col1\" class=\"data row0 col1\" >2310</td>\n",
       "                        <td id=\"T_af29e23e_2fbf_11ea_9c93_af0e556d7809row0_col2\" class=\"data row0 col2\" >473</td>\n",
       "                        <td id=\"T_af29e23e_2fbf_11ea_9c93_af0e556d7809row0_col3\" class=\"data row0 col3\" >1638</td>\n",
       "                        <td id=\"T_af29e23e_2fbf_11ea_9c93_af0e556d7809row0_col4\" class=\"data row0 col4\" >2008</td>\n",
       "                        <td id=\"T_af29e23e_2fbf_11ea_9c93_af0e556d7809row0_col5\" class=\"data row0 col5\" >2144</td>\n",
       "                        <td id=\"T_af29e23e_2fbf_11ea_9c93_af0e556d7809row0_col6\" class=\"data row0 col6\" >2534</td>\n",
       "                        <td id=\"T_af29e23e_2fbf_11ea_9c93_af0e556d7809row0_col7\" class=\"data row0 col7\" >3587</td>\n",
       "            </tr>\n",
       "            <tr>\n",
       "                        <th id=\"T_af29e23e_2fbf_11ea_9c93_af0e556d7809level0_row1\" class=\"row_heading level0 row1\" >Toinen aste</th>\n",
       "                        <td id=\"T_af29e23e_2fbf_11ea_9c93_af0e556d7809row1_col0\" class=\"data row1 col0\" >30</td>\n",
       "                        <td id=\"T_af29e23e_2fbf_11ea_9c93_af0e556d7809row1_col1\" class=\"data row1 col1\" >2403</td>\n",
       "                        <td id=\"T_af29e23e_2fbf_11ea_9c93_af0e556d7809row1_col2\" class=\"data row1 col2\" >534</td>\n",
       "                        <td id=\"T_af29e23e_2fbf_11ea_9c93_af0e556d7809row1_col3\" class=\"data row1 col3\" >1521</td>\n",
       "                        <td id=\"T_af29e23e_2fbf_11ea_9c93_af0e556d7809row1_col4\" class=\"data row1 col4\" >2008</td>\n",
       "                        <td id=\"T_af29e23e_2fbf_11ea_9c93_af0e556d7809row1_col5\" class=\"data row1 col5\" >2378</td>\n",
       "                        <td id=\"T_af29e23e_2fbf_11ea_9c93_af0e556d7809row1_col6\" class=\"data row1 col6\" >2729</td>\n",
       "                        <td id=\"T_af29e23e_2fbf_11ea_9c93_af0e556d7809row1_col7\" class=\"data row1 col7\" >3510</td>\n",
       "            </tr>\n",
       "            <tr>\n",
       "                        <th id=\"T_af29e23e_2fbf_11ea_9c93_af0e556d7809level0_row2\" class=\"row_heading level0 row2\" >Korkeakoulu</th>\n",
       "                        <td id=\"T_af29e23e_2fbf_11ea_9c93_af0e556d7809row2_col0\" class=\"data row2 col0\" >22</td>\n",
       "                        <td id=\"T_af29e23e_2fbf_11ea_9c93_af0e556d7809row2_col1\" class=\"data row2 col1\" >2887</td>\n",
       "                        <td id=\"T_af29e23e_2fbf_11ea_9c93_af0e556d7809row2_col2\" class=\"data row2 col2\" >1108</td>\n",
       "                        <td id=\"T_af29e23e_2fbf_11ea_9c93_af0e556d7809row2_col3\" class=\"data row2 col3\" >1559</td>\n",
       "                        <td id=\"T_af29e23e_2fbf_11ea_9c93_af0e556d7809row2_col4\" class=\"data row2 col4\" >2222</td>\n",
       "                        <td id=\"T_af29e23e_2fbf_11ea_9c93_af0e556d7809row2_col5\" class=\"data row2 col5\" >2710</td>\n",
       "                        <td id=\"T_af29e23e_2fbf_11ea_9c93_af0e556d7809row2_col6\" class=\"data row2 col6\" >2925</td>\n",
       "                        <td id=\"T_af29e23e_2fbf_11ea_9c93_af0e556d7809row2_col7\" class=\"data row2 col7\" >6278</td>\n",
       "            </tr>\n",
       "            <tr>\n",
       "                        <th id=\"T_af29e23e_2fbf_11ea_9c93_af0e556d7809level0_row3\" class=\"row_heading level0 row3\" >Ylempi korkeakoulu</th>\n",
       "                        <td id=\"T_af29e23e_2fbf_11ea_9c93_af0e556d7809row3_col0\" class=\"data row3 col0\" >2</td>\n",
       "                        <td id=\"T_af29e23e_2fbf_11ea_9c93_af0e556d7809row3_col1\" class=\"data row3 col1\" >5147</td>\n",
       "                        <td id=\"T_af29e23e_2fbf_11ea_9c93_af0e556d7809row3_col2\" class=\"data row3 col2\" >110</td>\n",
       "                        <td id=\"T_af29e23e_2fbf_11ea_9c93_af0e556d7809row3_col3\" class=\"data row3 col3\" >5069</td>\n",
       "                        <td id=\"T_af29e23e_2fbf_11ea_9c93_af0e556d7809row3_col4\" class=\"data row3 col4\" >5108</td>\n",
       "                        <td id=\"T_af29e23e_2fbf_11ea_9c93_af0e556d7809row3_col5\" class=\"data row3 col5\" >5147</td>\n",
       "                        <td id=\"T_af29e23e_2fbf_11ea_9c93_af0e556d7809row3_col6\" class=\"data row3 col6\" >5186</td>\n",
       "                        <td id=\"T_af29e23e_2fbf_11ea_9c93_af0e556d7809row3_col7\" class=\"data row3 col7\" >5225</td>\n",
       "            </tr>\n",
       "    </tbody></table>"
      ],
      "text/plain": [
       "<pandas.io.formats.style.Styler at 0x263f6be7ac8>"
      ]
     },
     "execution_count": 21,
     "metadata": {},
     "output_type": "execute_result"
    }
   ],
   "source": [
    "df3 = df.groupby('koulutus')['palkka'].describe()\n",
    "df3.index=koulutus\n",
    "df3.style.format('{:.0f}')"
   ]
  },
  {
   "cell_type": "code",
   "execution_count": 24,
   "metadata": {},
   "outputs": [
    {
     "data": {
      "image/png": "[encoded data removed]",
      "text/plain": [
       "<Figure size 432x288 with 1 Axes>"
      ]
     },
     "metadata": {
      "needs_background": "light"
     },
     "output_type": "display_data"
    }
   ],
   "source": [
    "ax2 = sns.boxplot(x='sukupuoli', y='palkka', data=df)\n"
   ]
  },
  {
   "cell_type": "code",
   "execution_count": 25,
   "metadata": {},
   "outputs": [
    {
     "data": {
      "image/png": "[encoded data removed]",
      "text/plain": [
       "<Figure size 432x288 with 1 Axes>"
      ]
     },
     "metadata": {
      "needs_background": "light"
     },
     "output_type": "display_data"
    }
   ],
   "source": [
    "ax3 = sns.boxplot(x='sukupuoli', y='koulutus', data=df)\n"
   ]
  },
  {
   "cell_type": "code",
   "execution_count": 27,
   "metadata": {},
   "outputs": [
    {
     "data": {
      "image/png": "[encoded data removed]",
      "text/plain": [
       "<Figure size 432x288 with 1 Axes>"
      ]
     },
     "metadata": {
      "needs_background": "light"
     },
     "output_type": "display_data"
    }
   ],
   "source": [
    "ax4 = sns.boxplot(x='koulutus', y='palkka', data=df)"
   ]
  },
  {
   "cell_type": "code",
   "execution_count": null,
   "metadata": {},
   "outputs": [],
   "source": []
  }
 ],
 "metadata": {
  "kernelspec": {
   "display_name": "Python 3",
   "language": "python",
   "name": "python3"
  },
  "language_info": {
   "codemirror_mode": {
    "name": "ipython",
    "version": 3
   },
   "file_extension": ".py",
   "mimetype": "text/x-python",
   "name": "python",
   "nbconvert_exporter": "python",
   "pygments_lexer": "ipython3",
   "version": "3.7.3"
  }
 },
 "nbformat": 4,
 "nbformat_minor": 4
}
